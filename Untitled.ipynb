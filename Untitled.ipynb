{
 "cells": [
  {
   "cell_type": "code",
   "execution_count": 1,
   "id": "f076c987",
   "metadata": {},
   "outputs": [],
   "source": [
    "import pandas as np\n",
    "import requests\n",
    "import matplotlib"
   ]
  },
  {
   "cell_type": "code",
   "execution_count": 2,
   "id": "ab5584fe",
   "metadata": {},
   "outputs": [],
   "source": [
    "headers_dict = {\"x-messari-api-key\": \"b6d4f6e0-72c9-4086-b9ec-f5635aa5b1ff\"}"
   ]
  },
  {
   "cell_type": "code",
   "execution_count": 3,
   "id": "2a0c6a5b",
   "metadata": {},
   "outputs": [],
   "source": [
    "base_url = \"https://data.messari.io/api/v1/assets/\""
   ]
  },
  {
   "cell_type": "code",
   "execution_count": 4,
   "id": "415a1ef0",
   "metadata": {},
   "outputs": [],
   "source": [
    "assetKey = \"btc\""
   ]
  },
  {
   "cell_type": "code",
   "execution_count": 7,
   "id": "a5ad1456",
   "metadata": {},
   "outputs": [],
   "source": [
    "response = requests.get(base_url + assetKey, headers = headers_dict)"
   ]
  },
  {
   "cell_type": "code",
   "execution_count": 8,
   "id": "e17044c0",
   "metadata": {},
   "outputs": [
    {
     "data": {
      "text/plain": [
       "{'status': {'elapsed': 203, 'timestamp': '2021-04-21T14:04:17.765070153Z'},\n",
       " 'data': {'id': '1e31218a-e44e-4285-820c-8282ee222035',\n",
       "  'symbol': 'BTC',\n",
       "  'name': 'Bitcoin',\n",
       "  'slug': 'bitcoin',\n",
       "  '_internal_temp_agora_id': '9793eae6-f374-46b4-8764-c2d224429791'}}"
      ]
     },
     "execution_count": 8,
     "metadata": {},
     "output_type": "execute_result"
    }
   ],
   "source": [
    "if response.status_code != 200:\n",
    "    print(\"Error\")\n",
    "data = response.json()\n",
    "data"
   ]
  },
  {
   "cell_type": "code",
   "execution_count": null,
   "id": "440de210",
   "metadata": {},
   "outputs": [],
   "source": []
  },
  {
   "cell_type": "code",
   "execution_count": null,
   "id": "c02b8f8b",
   "metadata": {},
   "outputs": [],
   "source": []
  },
  {
   "cell_type": "code",
   "execution_count": null,
   "id": "58c6198d",
   "metadata": {},
   "outputs": [],
   "source": []
  },
  {
   "cell_type": "code",
   "execution_count": null,
   "id": "e6f73580",
   "metadata": {},
   "outputs": [],
   "source": []
  },
  {
   "cell_type": "code",
   "execution_count": null,
   "id": "153dd1a4",
   "metadata": {},
   "outputs": [],
   "source": []
  },
  {
   "cell_type": "code",
   "execution_count": null,
   "id": "1c9f4935",
   "metadata": {},
   "outputs": [],
   "source": []
  }
 ],
 "metadata": {
  "kernelspec": {
   "display_name": "Python 3",
   "language": "python",
   "name": "python3"
  },
  "language_info": {
   "codemirror_mode": {
    "name": "ipython",
    "version": 3
   },
   "file_extension": ".py",
   "mimetype": "text/x-python",
   "name": "python",
   "nbconvert_exporter": "python",
   "pygments_lexer": "ipython3",
   "version": "3.8.6"
  }
 },
 "nbformat": 4,
 "nbformat_minor": 5
}
