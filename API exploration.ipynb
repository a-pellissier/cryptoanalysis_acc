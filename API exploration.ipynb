{
 "cells": [
  {
   "cell_type": "code",
   "execution_count": 15,
   "id": "b09d0e90",
   "metadata": {},
   "outputs": [],
   "source": [
    "import pandas as pd\n",
    "import requests\n",
    "import matplotlib.pyplot as plt\n",
    "import seaborn as sns"
   ]
  },
  {
   "cell_type": "code",
   "execution_count": 16,
   "id": "df5719a9",
   "metadata": {},
   "outputs": [],
   "source": [
    "api_key = "
   ]
  },
  {
   "cell_type": "markdown",
   "id": "7d67c6f9",
   "metadata": {},
   "source": [
    "<h1>Get crypto list</h1>"
   ]
  },
  {
   "cell_type": "code",
   "execution_count": 17,
   "id": "18b6fb69",
   "metadata": {},
   "outputs": [],
   "source": [
    "base_url = \"https://data.messari.io/api/v2/assets\"\n",
    "headers_dict = {\"x-messari-api-key\": api_key}"
   ]
  },
  {
   "cell_type": "code",
   "execution_count": 18,
   "id": "a3792058",
   "metadata": {},
   "outputs": [],
   "source": [
    "response = requests.get(base_url, headers = headers_dict)\n",
    "if response.status_code != 200:\n",
    "    print(\"Error\")\n",
    "data = response.json()"
   ]
  },
  {
   "cell_type": "code",
   "execution_count": 19,
   "id": "0784daf6",
   "metadata": {},
   "outputs": [],
   "source": [
    "list_cryptos = []\n",
    "for _dict in data['data']:\n",
    "    list_cryptos.append(_dict['symbol'])"
   ]
  },
  {
   "cell_type": "code",
   "execution_count": 20,
   "id": "54c979ac",
   "metadata": {},
   "outputs": [
    {
     "data": {
      "text/plain": [
       "['BTC',\n",
       " 'ETH',\n",
       " 'BNB',\n",
       " 'USDT',\n",
       " 'XRP',\n",
       " 'DOGE',\n",
       " 'ADA',\n",
       " 'DOT',\n",
       " 'BCH',\n",
       " 'LTC',\n",
       " 'UNI',\n",
       " 'LINK',\n",
       " 'VET',\n",
       " 'THETA',\n",
       " 'USDC',\n",
       " 'FIL',\n",
       " 'XLM',\n",
       " 'SOL',\n",
       " 'TRX',\n",
       " 'WBTC']"
      ]
     },
     "execution_count": 20,
     "metadata": {},
     "output_type": "execute_result"
    }
   ],
   "source": [
    "list_cryptos"
   ]
  },
  {
   "cell_type": "markdown",
   "id": "6b1ba25b",
   "metadata": {},
   "source": [
    "<h1>Get timeseries marketcap data for a specific token</h1>"
   ]
  },
  {
   "cell_type": "code",
   "execution_count": 21,
   "id": "08ea345c",
   "metadata": {},
   "outputs": [],
   "source": [
    "base_url = \"https://data.messari.io/api/v1/assets\"\n",
    "\n",
    "assetKey = \"/bnb/\"\n",
    "\n",
    "endpoint_url = \"metrics/mcap.circ/time-series\"\n",
    "\n",
    "params_dict = {\"start\": 1587479311,\n",
    "              \"end\": 1619015311,\n",
    "              \"interval\": \"1d\"}\n",
    "\n",
    "headers_dict = {\"x-messari-api-key\": api_key}"
   ]
  },
  {
   "cell_type": "code",
   "execution_count": 22,
   "id": "7509e778",
   "metadata": {},
   "outputs": [],
   "source": [
    "response = requests.get(base_url + assetKey + endpoint_url,\n",
    "                        params = params_dict,\n",
    "                        headers = headers_dict)"
   ]
  },
  {
   "cell_type": "code",
   "execution_count": 23,
   "id": "00ee3079",
   "metadata": {},
   "outputs": [],
   "source": [
    "if response.status_code != 200:\n",
    "    print(\"Error\")\n",
    "data_bnb = response.json()"
   ]
  },
  {
   "cell_type": "code",
   "execution_count": 24,
   "id": "e0e0a653",
   "metadata": {},
   "outputs": [],
   "source": [
    "bnb_marketcap = pd.DataFrame(data_bnb['data']['values'])"
   ]
  },
  {
   "cell_type": "code",
   "execution_count": 25,
   "id": "fcc7d483",
   "metadata": {},
   "outputs": [
    {
     "data": {
      "text/plain": [
       "[<matplotlib.lines.Line2D at 0x7f7aa12c5df0>]"
      ]
     },
     "execution_count": 25,
     "metadata": {},
     "output_type": "execute_result"
    },
    {
     "data": {
      "image/png": "[encoded data removed]",
      "text/plain": [
       "<Figure size 432x288 with 1 Axes>"
      ]
     },
     "metadata": {
      "needs_background": "light"
     },
     "output_type": "display_data"
    }
   ],
   "source": [
    "plt.plot(bnb_marketcap[0], bnb_marketcap[1])"
   ]
  },
  {
   "cell_type": "markdown",
   "id": "bf2e13ba",
   "metadata": {},
   "source": [
    "<h1>Get timeseries traffic data for marketplace linked to previous token</h1>"
   ]
  },
  {
   "cell_type": "code",
   "execution_count": 26,
   "id": "a3d1ccec",
   "metadata": {},
   "outputs": [],
   "source": [
    "base_url = \"https://data.messari.io/api/v1/markets\"\n",
    "\n",
    "assetKey = \"/bnb/\"\n",
    "\n",
    "endpoint_url = \"metrics/mcap.circ/time-series\"\n",
    "\n",
    "params_dict = {\"start\": 1587479311,\n",
    "              \"end\": 1619015311,\n",
    "              \"interval\": \"1d\"}\n",
    "\n",
    "headers_dict = {\"x-messari-api-key\": api_key}\n",
    "\n",
    "response = requests.get(base_url,\n",
    "                        headers = headers_dict)\n",
    "\n",
    "if response.status_code != 200:\n",
    "    print(\"Error\")\n",
    "data = response.json()"
   ]
  },
  {
   "cell_type": "code",
   "execution_count": null,
   "id": "f3eef972",
   "metadata": {},
   "outputs": [],
   "source": []
  },
  {
   "cell_type": "code",
   "execution_count": null,
   "id": "01451176",
   "metadata": {},
   "outputs": [],
   "source": []
  },
  {
   "cell_type": "code",
   "execution_count": null,
   "id": "f16b7d98",
   "metadata": {},
   "outputs": [],
   "source": []
  }
 ],
 "metadata": {
  "kernelspec": {
   "display_name": "Python 3",
   "language": "python",
   "name": "python3"
  },
  "language_info": {
   "codemirror_mode": {
    "name": "ipython",
    "version": 3
   },
   "file_extension": ".py",
   "mimetype": "text/x-python",
   "name": "python",
   "nbconvert_exporter": "python",
   "pygments_lexer": "ipython3",
   "version": "3.8.6"
  }
 },
 "nbformat": 4,
 "nbformat_minor": 5
}
